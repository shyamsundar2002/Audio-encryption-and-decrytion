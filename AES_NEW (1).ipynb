{
  "cells": [
    {
      "cell_type": "code",
      "execution_count": 1,
      "metadata": {
        "colab": {
          "base_uri": "https://localhost:8080/"
        },
        "id": "I2G2S0RK5tTT",
        "outputId": "dd86deb3-16fa-46ee-9a4b-c3e282238b28"
      },
      "outputs": [
        {
          "output_type": "stream",
          "name": "stdout",
          "text": [
            "Looking in indexes: https://pypi.org/simple, https://us-python.pkg.dev/colab-wheels/public/simple/\n",
            "Collecting pycryptodome\n",
            "  Downloading pycryptodome-3.17-cp35-abi3-manylinux_2_17_x86_64.manylinux2014_x86_64.whl (2.1 MB)\n",
            "\u001b[2K     \u001b[90m━━━━━━━━━━━━━━━━━━━━━━━━━━━━━━━━━━━━━━━━\u001b[0m \u001b[32m2.1/2.1 MB\u001b[0m \u001b[31m23.4 MB/s\u001b[0m eta \u001b[36m0:00:00\u001b[0m\n",
            "\u001b[?25hInstalling collected packages: pycryptodome\n",
            "Successfully installed pycryptodome-3.17\n"
          ]
        }
      ],
      "source": [
        "!pip install pycryptodome"
      ]
    },
    {
      "cell_type": "code",
      "execution_count": 2,
      "metadata": {
        "id": "iiySOdAD51Xb"
      },
      "outputs": [],
      "source": [
        "from scipy.io import wavfile \n",
        "import numpy as np\n",
        "import matplotlib.pyplot as plt\n",
        "import random\n",
        "import string\n",
        "from Crypto.Cipher import AES\n",
        "from Crypto.Util.Padding import pad,unpad\n",
        "import time"
      ]
    },
    {
      "cell_type": "markdown",
      "metadata": {
        "id": "o68-90w16E2j"
      },
      "source": [
        "# SENDER CODE:"
      ]
    },
    {
      "cell_type": "code",
      "execution_count": 105,
      "metadata": {
        "colab": {
          "base_uri": "https://localhost:8080/",
          "height": 333
        },
        "id": "3mr5UOEF6JIJ",
        "outputId": "fe155fe4-1e8b-49f9-ebc3-574804eb9280"
      },
      "outputs": [
        {
          "output_type": "stream",
          "name": "stderr",
          "text": [
            "<ipython-input-105-967dcfc44894>:1: WavFileWarning: Chunk (non-data) not understood, skipping it.\n",
            "  fs,data = wavfile.read('/content/audio.wav')\n"
          ]
        },
        {
          "output_type": "execute_result",
          "data": {
            "text/plain": [
              "Text(0.5, 1.0, 'Original audio plot')"
            ]
          },
          "metadata": {},
          "execution_count": 105
        },
        {
          "output_type": "display_data",
          "data": {
            "text/plain": [
              "<Figure size 432x288 with 1 Axes>"
            ],
            "image/png": "[encoded data removed]"
          },
          "metadata": {
            "needs_background": "light"
          }
        }
      ],
      "source": [
        "fs,data = wavfile.read('/content/audio.wav')\n",
        "plt.plot(data)\n",
        "plt.title(\"Original audio plot\")"
      ]
    },
    {
      "cell_type": "code",
      "execution_count": 106,
      "metadata": {
        "colab": {
          "base_uri": "https://localhost:8080/"
        },
        "id": "7iV8mXeP6PvF",
        "outputId": "2191def0-fcf9-4ee7-d275-1bea4b9c763b"
      },
      "outputs": [
        {
          "output_type": "execute_result",
          "data": {
            "text/plain": [
              "array([[0, 0],\n",
              "       [0, 0],\n",
              "       [0, 0],\n",
              "       ...,\n",
              "       [0, 0],\n",
              "       [0, 0],\n",
              "       [0, 0]], dtype=int16)"
            ]
          },
          "metadata": {},
          "execution_count": 106
        }
      ],
      "source": [
        "data"
      ]
    },
    {
      "cell_type": "code",
      "execution_count": 107,
      "metadata": {
        "id": "lkEeQ0YP6T0n"
      },
      "outputs": [],
      "source": [
        "with open('/content/audio.wav', 'rb') as fd:\n",
        "    contents = fd.read()"
      ]
    },
    {
      "cell_type": "code",
      "execution_count": 108,
      "metadata": {
        "id": "UNd1bhAv6YpK"
      },
      "outputs": [],
      "source": [
        "AES_KEY = ''.join(random.choice(string.ascii_uppercase + string.ascii_lowercase + string.digits) for x in range(32))\n",
        "\n",
        "AES_IV = ''.join(random.choice(string.ascii_uppercase + string.ascii_lowercase + string.digits) for x in range(16))"
      ]
    },
    {
      "cell_type": "code",
      "execution_count": 109,
      "metadata": {
        "colab": {
          "base_uri": "https://localhost:8080/"
        },
        "id": "jPDbpm4r6eTX",
        "outputId": "ccea2a3f-8dbf-43e5-b27b-c51131fffcc2"
      },
      "outputs": [
        {
          "output_type": "stream",
          "name": "stdout",
          "text": [
            "AES Key is  u7b0ZMchR8B0h1D1wQ4z6O1tpobHzFKj\n",
            "AES Initialization vector is  r94bztbP2bVWsio2\n"
          ]
        }
      ],
      "source": [
        "print(\"AES Key is \", AES_KEY)\n",
        "print(\"AES Initialization vector is \", AES_IV)"
      ]
    },
    {
      "cell_type": "code",
      "execution_count": 110,
      "metadata": {
        "id": "Ec02nzX-58ih"
      },
      "outputs": [],
      "source": [
        "encryptor = AES.new(AES_KEY.encode(\"utf-8\"), AES.MODE_CFB, AES_IV.encode(\"utf-8\"))"
      ]
    },
    {
      "cell_type": "code",
      "execution_count": 111,
      "metadata": {
        "id": "Hy3LUQFX6sA1"
      },
      "outputs": [],
      "source": [
        "from Crypto.Util.Padding import pad\n",
        "encrypted_audio_pad=pad(contents,AES.block_size)"
      ]
    },
    {
      "cell_type": "code",
      "execution_count": 112,
      "metadata": {
        "id": "NLrfajNb6vfJ"
      },
      "outputs": [],
      "source": [
        "encrypted_audio=encryptor.encrypt(encrypted_audio_pad)"
      ]
    },
    {
      "cell_type": "code",
      "source": [
        "encrypted_audio[:10]"
      ],
      "metadata": {
        "colab": {
          "base_uri": "https://localhost:8080/"
        },
        "id": "XrJhyGP45sTF",
        "outputId": "1e12f73e-18d8-4ef7-c967-5d8d9f39a20f"
      },
      "execution_count": 114,
      "outputs": [
        {
          "output_type": "execute_result",
          "data": {
            "text/plain": [
              "b'\\xdf\\xeb`=>\\xda\\x8e\\x98\\xc0 '"
            ]
          },
          "metadata": {},
          "execution_count": 114
        }
      ]
    },
    {
      "cell_type": "code",
      "source": [
        "len(encrypted_audio)"
      ],
      "metadata": {
        "colab": {
          "base_uri": "https://localhost:8080/"
        },
        "id": "Y4IhqTH7_1Rj",
        "outputId": "4b96fbac-a591-49dd-aac9-e916e53429d5"
      },
      "execution_count": 141,
      "outputs": [
        {
          "output_type": "execute_result",
          "data": {
            "text/plain": [
              "294736"
            ]
          },
          "metadata": {},
          "execution_count": 141
        }
      ]
    },
    {
      "cell_type": "markdown",
      "metadata": {
        "id": "D_VSPzWm663l"
      },
      "source": [
        "# ATTACKER SIDE:"
      ]
    },
    {
      "cell_type": "code",
      "execution_count": 115,
      "metadata": {
        "id": "Nyqji9bl6-ls"
      },
      "outputs": [],
      "source": [
        "#decrypt the encrypted file and add noise to it\n",
        "decryptor = AES.new(AES_KEY.encode(\"utf-8\"), AES.MODE_CFB, AES_IV.encode(\"utf-8\"))\n",
        "decrypted_audio = decryptor.decrypt(encrypted_audio)"
      ]
    },
    {
      "cell_type": "code",
      "execution_count": 116,
      "metadata": {
        "id": "x57C0_8-7HVI"
      },
      "outputs": [],
      "source": [
        "#remove the padding\n",
        "decrypted_audio=unpad(decrypted_audio,AES.block_size)"
      ]
    },
    {
      "cell_type": "code",
      "source": [
        "len(decrypted_audio)"
      ],
      "metadata": {
        "colab": {
          "base_uri": "https://localhost:8080/"
        },
        "id": "qKpURFt9_OrE",
        "outputId": "6455bcad-937f-42eb-ce97-e7d7fcf0de46"
      },
      "execution_count": 140,
      "outputs": [
        {
          "output_type": "execute_result",
          "data": {
            "text/plain": [
              "294730"
            ]
          },
          "metadata": {},
          "execution_count": 140
        }
      ]
    },
    {
      "cell_type": "code",
      "source": [
        "print(decrypted_audio[:10])"
      ],
      "metadata": {
        "colab": {
          "base_uri": "https://localhost:8080/"
        },
        "id": "OtRzAHFuHF7E",
        "outputId": "b8f2919b-1ad3-4993-a740-efc35d049dcd"
      },
      "execution_count": 117,
      "outputs": [
        {
          "output_type": "stream",
          "name": "stdout",
          "text": [
            "b'RIFFB\\x7f\\x04\\x00WA'\n"
          ]
        }
      ]
    },
    {
      "cell_type": "code",
      "source": [
        "with open(\"decrypt.wav\",\"wb\") as f:\n",
        "  f.write(decrypted_audio)"
      ],
      "metadata": {
        "id": "6wgcGdoN4GwJ"
      },
      "execution_count": 118,
      "outputs": []
    },
    {
      "cell_type": "code",
      "source": [
        "fs,data=wavfile.read(\"decrypt.wav\")"
      ],
      "metadata": {
        "colab": {
          "base_uri": "https://localhost:8080/"
        },
        "id": "jRWLSlT04n__",
        "outputId": "413d85e1-9087-4c97-957e-b377c3ff8cf7"
      },
      "execution_count": 119,
      "outputs": [
        {
          "output_type": "stream",
          "name": "stderr",
          "text": [
            "<ipython-input-119-782d9d911bef>:1: WavFileWarning: Chunk (non-data) not understood, skipping it.\n",
            "  fs,data=wavfile.read(\"decrypt.wav\")\n"
          ]
        }
      ]
    },
    {
      "cell_type": "code",
      "source": [
        "data"
      ],
      "metadata": {
        "colab": {
          "base_uri": "https://localhost:8080/"
        },
        "id": "TM_oShCv4wGs",
        "outputId": "1b55848d-29dd-4a72-c535-f8792abb7b54"
      },
      "execution_count": 120,
      "outputs": [
        {
          "output_type": "execute_result",
          "data": {
            "text/plain": [
              "array([[0, 0],\n",
              "       [0, 0],\n",
              "       [0, 0],\n",
              "       ...,\n",
              "       [0, 0],\n",
              "       [0, 0],\n",
              "       [0, 0]], dtype=int16)"
            ]
          },
          "metadata": {},
          "execution_count": 120
        }
      ]
    },
    {
      "cell_type": "code",
      "source": [
        "data.shape"
      ],
      "metadata": {
        "colab": {
          "base_uri": "https://localhost:8080/"
        },
        "id": "ERChiPsw6IPk",
        "outputId": "a96feebf-7bf5-4a43-cc33-a99def175890"
      },
      "execution_count": 121,
      "outputs": [
        {
          "output_type": "execute_result",
          "data": {
            "text/plain": [
              "(73500, 2)"
            ]
          },
          "metadata": {},
          "execution_count": 121
        }
      ]
    },
    {
      "cell_type": "code",
      "source": [
        "sample=np.random.randn(len(data)*2).reshape(data.shape)"
      ],
      "metadata": {
        "id": "UBCladBjwbq5"
      },
      "execution_count": 122,
      "outputs": []
    },
    {
      "cell_type": "code",
      "source": [
        "sample.shape"
      ],
      "metadata": {
        "colab": {
          "base_uri": "https://localhost:8080/"
        },
        "id": "8RC5Ve4z48NF",
        "outputId": "6759bfa4-12c3-448b-bd6b-3af98df3655e"
      },
      "execution_count": 123,
      "outputs": [
        {
          "output_type": "execute_result",
          "data": {
            "text/plain": [
              "(73500, 2)"
            ]
          },
          "metadata": {},
          "execution_count": 123
        }
      ]
    },
    {
      "cell_type": "code",
      "execution_count": 124,
      "metadata": {
        "id": "R1lxaS_38nRa"
      },
      "outputs": [],
      "source": [
        "noise=data+sample"
      ]
    },
    {
      "cell_type": "code",
      "source": [
        "noise-sample #removing noise"
      ],
      "metadata": {
        "colab": {
          "base_uri": "https://localhost:8080/"
        },
        "id": "NN9gt89GwXLd",
        "outputId": "cfa24350-a325-4313-d885-d8f4eb6d669f"
      },
      "execution_count": 126,
      "outputs": [
        {
          "output_type": "execute_result",
          "data": {
            "text/plain": [
              "array([[0., 0.],\n",
              "       [0., 0.],\n",
              "       [0., 0.],\n",
              "       ...,\n",
              "       [0., 0.],\n",
              "       [0., 0.],\n",
              "       [0., 0.]])"
            ]
          },
          "metadata": {},
          "execution_count": 126
        }
      ]
    },
    {
      "cell_type": "code",
      "source": [
        "plt.plot(noise)"
      ],
      "metadata": {
        "colab": {
          "base_uri": "https://localhost:8080/",
          "height": 300
        },
        "id": "gZDB3uP5xFm0",
        "outputId": "34aca7f4-c1b8-437e-d995-223bcb2b8f82"
      },
      "execution_count": 127,
      "outputs": [
        {
          "output_type": "execute_result",
          "data": {
            "text/plain": [
              "[<matplotlib.lines.Line2D at 0x7f8a71a3a910>,\n",
              " <matplotlib.lines.Line2D at 0x7f8a71a3a970>]"
            ]
          },
          "metadata": {},
          "execution_count": 127
        },
        {
          "output_type": "display_data",
          "data": {
            "text/plain": [
              "<Figure size 432x288 with 1 Axes>"
            ],
            "image/png": "[encoded data removed]"
          },
          "metadata": {
            "needs_background": "light"
          }
        }
      ]
    },
    {
      "cell_type": "code",
      "source": [
        "noise[:5]"
      ],
      "metadata": {
        "colab": {
          "base_uri": "https://localhost:8080/"
        },
        "id": "QZ1siJWOfzPg",
        "outputId": "33f3e15a-3608-4ae3-c5c0-c254ff3a1851"
      },
      "execution_count": 128,
      "outputs": [
        {
          "output_type": "execute_result",
          "data": {
            "text/plain": [
              "array([[ 0.99538241,  0.65798134],\n",
              "       [ 0.38182636,  0.73604026],\n",
              "       [-0.07632632,  1.52607595],\n",
              "       [ 1.04099888,  0.33555592],\n",
              "       [-1.46366058, -2.3627227 ]])"
            ]
          },
          "metadata": {},
          "execution_count": 128
        }
      ]
    },
    {
      "cell_type": "code",
      "source": [
        "#AES_KEY = ''.join(random.choice(string.ascii_uppercase + string.ascii_lowercase + string.digits) for x in range(32))\n",
        "\n",
        "#AES_IV = ''.join(random.choice(string.ascii_uppercase + string.ascii_lowercase + string.digits) for x in range(16))"
      ],
      "metadata": {
        "id": "bEJM2Ka8fng2"
      },
      "execution_count": 35,
      "outputs": []
    },
    {
      "cell_type": "code",
      "source": [
        "#(AES_IV,AES_KEY)"
      ],
      "metadata": {
        "id": "xKDANA3sp6wN"
      },
      "execution_count": null,
      "outputs": []
    },
    {
      "cell_type": "code",
      "source": [
        "encryptor = AES.new(AES_KEY.encode(\"utf-8\"), AES.MODE_CFB, AES_IV.encode(\"utf-8\"))"
      ],
      "metadata": {
        "id": "XsaXgelHfo9a"
      },
      "execution_count": 129,
      "outputs": []
    },
    {
      "cell_type": "code",
      "execution_count": 130,
      "metadata": {
        "id": "bGXuFEfq9s4L"
      },
      "outputs": [],
      "source": [
        "#encrypt the noise data and send to the reciver\n",
        "encrypted_noise_audio=encryptor.encrypt(bytes(noise))"
      ]
    },
    {
      "cell_type": "code",
      "source": [
        "encrypted_noise_audio[:5]"
      ],
      "metadata": {
        "colab": {
          "base_uri": "https://localhost:8080/"
        },
        "id": "8Gwrv996l0FO",
        "outputId": "3fd80c01-a2ce-4c77-b8e4-808e113bbfd4"
      },
      "execution_count": 131,
      "outputs": [
        {
          "output_type": "execute_result",
          "data": {
            "text/plain": [
              "b'uN\\x93zC'"
            ]
          },
          "metadata": {},
          "execution_count": 131
        }
      ]
    },
    {
      "cell_type": "code",
      "source": [
        "len(encrypted_noise_audio)"
      ],
      "metadata": {
        "colab": {
          "base_uri": "https://localhost:8080/"
        },
        "id": "2fv3-IltDUE0",
        "outputId": "09f91aa5-4d42-43cb-848c-4d6ed579ec91"
      },
      "execution_count": 214,
      "outputs": [
        {
          "output_type": "execute_result",
          "data": {
            "text/plain": [
              "1176000"
            ]
          },
          "metadata": {},
          "execution_count": 214
        }
      ]
    },
    {
      "cell_type": "markdown",
      "metadata": {
        "id": "d5wY1gpb-VHC"
      },
      "source": [
        "# Reciever side"
      ]
    },
    {
      "cell_type": "code",
      "execution_count": 213,
      "metadata": {
        "id": "9aXV9zqi-RyP"
      },
      "outputs": [],
      "source": [
        "# decrypt the noisy ciphertext\n",
        "cipher = AES.new(AES_KEY.encode(\"utf-8\"), AES.MODE_CFB, AES_IV.encode(\"utf-8\"))\n",
        "plaintext = cipher.decrypt(encrypted_noise_audio)"
      ]
    },
    {
      "cell_type": "code",
      "source": [
        "bytes(noise)[:10]"
      ],
      "metadata": {
        "colab": {
          "base_uri": "https://localhost:8080/"
        },
        "id": "h70ETGjmz_GE",
        "outputId": "4a339b06-0ac9-459f-a907-ccb0c37e4f27"
      },
      "execution_count": 133,
      "outputs": [
        {
          "output_type": "execute_result",
          "data": {
            "text/plain": [
              "b'\\xf8I07,\\xda\\xef?l\\xda'"
            ]
          },
          "metadata": {},
          "execution_count": 133
        }
      ]
    },
    {
      "cell_type": "code",
      "source": [
        "plaintext[:10]"
      ],
      "metadata": {
        "colab": {
          "base_uri": "https://localhost:8080/"
        },
        "id": "rvW6rvhnyh1H",
        "outputId": "94edb210-d7e4-48a3-b120-86c53b1637b7"
      },
      "execution_count": 134,
      "outputs": [
        {
          "output_type": "execute_result",
          "data": {
            "text/plain": [
              "b'\\xf8I07,\\xda\\xef?l\\xda'"
            ]
          },
          "metadata": {},
          "execution_count": 134
        }
      ]
    },
    {
      "cell_type": "code",
      "source": [
        "true_data=np.frombuffer(plaintext,dtype=np.float64)"
      ],
      "metadata": {
        "id": "9F5BnopAzE2D"
      },
      "execution_count": 215,
      "outputs": []
    },
    {
      "cell_type": "code",
      "source": [
        "len(true_data)"
      ],
      "metadata": {
        "colab": {
          "base_uri": "https://localhost:8080/"
        },
        "id": "WC2gfzx3WD6E",
        "outputId": "ea946563-c44b-4a6e-85ef-419f448a93cd"
      },
      "execution_count": 216,
      "outputs": [
        {
          "output_type": "execute_result",
          "data": {
            "text/plain": [
              "147000"
            ]
          },
          "metadata": {},
          "execution_count": 216
        }
      ]
    },
    {
      "cell_type": "code",
      "source": [
        "len(true_data)//2"
      ],
      "metadata": {
        "colab": {
          "base_uri": "https://localhost:8080/"
        },
        "id": "M5Z7dfBC2cW4",
        "outputId": "36346f59-8c00-4712-8e56-343647f089eb"
      },
      "execution_count": 198,
      "outputs": [
        {
          "output_type": "execute_result",
          "data": {
            "text/plain": [
              "73500"
            ]
          },
          "metadata": {},
          "execution_count": 198
        }
      ]
    },
    {
      "cell_type": "code",
      "source": [
        "np.finfo(dtype=np.float64)"
      ],
      "metadata": {
        "colab": {
          "base_uri": "https://localhost:8080/"
        },
        "id": "dcbGC-VCTZq6",
        "outputId": "e155fe7c-7a23-4b07-a9c0-7407f0168745"
      },
      "execution_count": 217,
      "outputs": [
        {
          "output_type": "execute_result",
          "data": {
            "text/plain": [
              "finfo(resolution=1e-15, min=-1.7976931348623157e+308, max=1.7976931348623157e+308, dtype=float64)"
            ]
          },
          "metadata": {},
          "execution_count": 217
        }
      ]
    },
    {
      "cell_type": "code",
      "source": [
        "true_data=true_data.reshape((len(true_data)//2,2))"
      ],
      "metadata": {
        "id": "yIkotQbszOkO"
      },
      "execution_count": 221,
      "outputs": []
    },
    {
      "cell_type": "code",
      "source": [
        "np.where(true_data<np.finfo(dtype=np.float64).min)"
      ],
      "metadata": {
        "colab": {
          "base_uri": "https://localhost:8080/"
        },
        "id": "F-UEwOsBOzDp",
        "outputId": "f79ddf60-9a95-4929-f01e-9e3a078405fa"
      },
      "execution_count": 218,
      "outputs": [
        {
          "output_type": "execute_result",
          "data": {
            "text/plain": [
              "(array([], dtype=int64),)"
            ]
          },
          "metadata": {},
          "execution_count": 218
        }
      ]
    },
    {
      "cell_type": "code",
      "source": [
        "true_data=np.delete(true_data,np.where(true_data<np.finfo(dtype=np.float64).min))"
      ],
      "metadata": {
        "id": "Y-eA6fszMBet"
      },
      "execution_count": 208,
      "outputs": []
    },
    {
      "cell_type": "code",
      "source": [
        "np.where(true_data<np.finfo(dtype=np.float64).min)"
      ],
      "metadata": {
        "colab": {
          "base_uri": "https://localhost:8080/"
        },
        "id": "IGGb1GE_NdKt",
        "outputId": "49873a8e-1c3c-4501-c86e-1a0b851ad31a"
      },
      "execution_count": 209,
      "outputs": [
        {
          "output_type": "execute_result",
          "data": {
            "text/plain": [
              "(array([], dtype=int64),)"
            ]
          },
          "metadata": {},
          "execution_count": 209
        }
      ]
    },
    {
      "cell_type": "code",
      "source": [
        "true_data=true_data[~np.isnan(true_data)]"
      ],
      "metadata": {
        "id": "Ic802LxPMg_P"
      },
      "execution_count": 180,
      "outputs": []
    },
    {
      "cell_type": "code",
      "source": [
        "print(true_data)"
      ],
      "metadata": {
        "colab": {
          "base_uri": "https://localhost:8080/"
        },
        "id": "UUqNVGZRRjMk",
        "outputId": "a3680373-405d-48f6-d6cc-fdc443abc320"
      },
      "execution_count": 219,
      "outputs": [
        {
          "output_type": "stream",
          "name": "stdout",
          "text": [
            "[ 0.99538241  0.65798134  0.38182636 ... -0.21067515 -2.31070506\n",
            " -0.15831008]\n"
          ]
        }
      ]
    },
    {
      "cell_type": "code",
      "source": [
        "plt.plot(true_data)"
      ],
      "metadata": {
        "colab": {
          "base_uri": "https://localhost:8080/",
          "height": 300
        },
        "id": "Mj-lOq1I2kLe",
        "outputId": "705dcb29-cf05-433c-8a66-41d18c1858fa"
      },
      "execution_count": 222,
      "outputs": [
        {
          "output_type": "execute_result",
          "data": {
            "text/plain": [
              "[<matplotlib.lines.Line2D at 0x7f8a71085490>,\n",
              " <matplotlib.lines.Line2D at 0x7f8a710854f0>]"
            ]
          },
          "metadata": {},
          "execution_count": 222
        },
        {
          "output_type": "display_data",
          "data": {
            "text/plain": [
              "<Figure size 432x288 with 1 Axes>"
            ],
            "image/png": "[encoded data removed]"
          },
          "metadata": {
            "needs_background": "light"
          }
        }
      ]
    },
    {
      "cell_type": "code",
      "source": [
        "with open(\"recived.wav\",\"wb\") as f:\n",
        "  f.write(bytearray(true_data))"
      ],
      "metadata": {
        "id": "cXNNfdHHE33c"
      },
      "execution_count": 143,
      "outputs": []
    },
    {
      "cell_type": "code",
      "source": [
        "#import librosa"
      ],
      "metadata": {
        "id": "1jaJFnY29o7B"
      },
      "execution_count": 44,
      "outputs": []
    },
    {
      "cell_type": "code",
      "source": [
        "#y,_=librosa.load(\"audio.wav\",sr=16000)"
      ],
      "metadata": {
        "id": "pQg_03ta_s5I"
      },
      "execution_count": 45,
      "outputs": []
    },
    {
      "cell_type": "code",
      "source": [
        "#plt.plot(y)"
      ],
      "metadata": {
        "colab": {
          "base_uri": "https://localhost:8080/",
          "height": 282
        },
        "id": "EI1W7Jzp_0-h",
        "outputId": "425bb147-e00d-41ae-b254-f0148ea337b1"
      },
      "execution_count": 46,
      "outputs": [
        {
          "output_type": "execute_result",
          "data": {
            "text/plain": [
              "[<matplotlib.lines.Line2D at 0x7f8a8bee48b0>]"
            ]
          },
          "metadata": {},
          "execution_count": 46
        },
        {
          "output_type": "display_data",
          "data": {
            "text/plain": [
              "<Figure size 432x288 with 1 Axes>"
            ],
            "image/png": "[encoded data removed]"
          },
          "metadata": {
            "needs_background": "light"
          }
        }
      ]
    },
    {
      "cell_type": "code",
      "source": [
        "#x,_=librosa.load(\"input_bytes.wav\",sr=16000)"
      ],
      "metadata": {
        "colab": {
          "base_uri": "https://localhost:8080/"
        },
        "id": "Kf-A9XsM-kdc",
        "outputId": "9e4a0c25-7650-4638-fd66-9a437b1aa1a6"
      },
      "execution_count": 47,
      "outputs": [
        {
          "output_type": "stream",
          "name": "stderr",
          "text": [
            "/usr/local/lib/python3.8/dist-packages/librosa/core/audio.py:165: UserWarning: PySoundFile failed. Trying audioread instead.\n",
            "  warnings.warn(\"PySoundFile failed. Trying audioread instead.\")\n"
          ]
        }
      ]
    },
    {
      "cell_type": "code",
      "source": [
        "#noise-sample"
      ],
      "metadata": {
        "colab": {
          "base_uri": "https://localhost:8080/"
        },
        "id": "zI9Iy6Q9yo6V",
        "outputId": "65601386-cadd-4587-eaf3-fd5dc12dc5b8"
      },
      "execution_count": 53,
      "outputs": [
        {
          "output_type": "execute_result",
          "data": {
            "text/plain": [
              "array([[0., 0.],\n",
              "       [0., 0.],\n",
              "       [0., 0.],\n",
              "       ...,\n",
              "       [0., 0.],\n",
              "       [0., 0.],\n",
              "       [0., 0.]])"
            ]
          },
          "metadata": {},
          "execution_count": 53
        }
      ]
    },
    {
      "cell_type": "code",
      "source": [
        "#!python3 -m pip install kaitaistruct"
      ],
      "metadata": {
        "id": "f1xH90pAG_fb"
      },
      "execution_count": null,
      "outputs": []
    },
    {
      "cell_type": "code",
      "source": [
        "#from kaitaistruct import KaitaiStream, BytesIO\n",
        "#data = KaitaiStream(BytesIO(plaintext))"
      ],
      "metadata": {
        "id": "5KMYMZsnjgS5"
      },
      "execution_count": null,
      "outputs": []
    }
  ],
  "metadata": {
    "colab": {
      "provenance": []
    },
    "kernelspec": {
      "display_name": "Python 3",
      "name": "python3"
    },
    "language_info": {
      "name": "python"
    }
  },
  "nbformat": 4,
  "nbformat_minor": 0
}